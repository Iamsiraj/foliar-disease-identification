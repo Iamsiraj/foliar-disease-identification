{
  "nbformat": 4,
  "nbformat_minor": 0,
  "metadata": {
    "colab": {
      "name": "Pytorch based Model along with Interpretability.ipynb",
      "provenance": [],
      "collapsed_sections": []
    },
    "kernelspec": {
      "display_name": "Python 3",
      "name": "python3"
    },
    "accelerator": "GPU",
    "widgets": {
      "application/vnd.jupyter.widget-state+json": {
        "f3e2c7d8405c4e00b17f967bd336ef13": {
          "model_module": "@jupyter-widgets/controls",
          "model_name": "HBoxModel",
          "state": {
            "_view_name": "HBoxView",
            "_dom_classes": [],
            "_model_name": "HBoxModel",
            "_view_module": "@jupyter-widgets/controls",
            "_model_module_version": "1.5.0",
            "_view_count": null,
            "_view_module_version": "1.5.0",
            "box_style": "",
            "layout": "IPY_MODEL_9be934c748d84208a9c442b79ca59d51",
            "_model_module": "@jupyter-widgets/controls",
            "children": [
              "IPY_MODEL_ec599959c0a44ba59b879c02e429756e",
              "IPY_MODEL_d006bf08f82d43518508afe0ae0a9ff0"
            ]
          }
        },
        "9be934c748d84208a9c442b79ca59d51": {
          "model_module": "@jupyter-widgets/base",
          "model_name": "LayoutModel",
          "state": {
            "_view_name": "LayoutView",
            "grid_template_rows": null,
            "right": null,
            "justify_content": null,
            "_view_module": "@jupyter-widgets/base",
            "overflow": null,
            "_model_module_version": "1.2.0",
            "_view_count": null,
            "flex_flow": null,
            "width": null,
            "min_width": null,
            "border": null,
            "align_items": null,
            "bottom": null,
            "_model_module": "@jupyter-widgets/base",
            "top": null,
            "grid_column": null,
            "overflow_y": null,
            "overflow_x": null,
            "grid_auto_flow": null,
            "grid_area": null,
            "grid_template_columns": null,
            "flex": null,
            "_model_name": "LayoutModel",
            "justify_items": null,
            "grid_row": null,
            "max_height": null,
            "align_content": null,
            "visibility": null,
            "align_self": null,
            "height": null,
            "min_height": null,
            "padding": null,
            "grid_auto_rows": null,
            "grid_gap": null,
            "max_width": null,
            "order": null,
            "_view_module_version": "1.2.0",
            "grid_template_areas": null,
            "object_position": null,
            "object_fit": null,
            "grid_auto_columns": null,
            "margin": null,
            "display": null,
            "left": null
          }
        },
        "ec599959c0a44ba59b879c02e429756e": {
          "model_module": "@jupyter-widgets/controls",
          "model_name": "FloatProgressModel",
          "state": {
            "_view_name": "ProgressView",
            "style": "IPY_MODEL_cb8cf72f8f0c45beb402ddca180fc0ca",
            "_dom_classes": [],
            "description": "100%",
            "_model_name": "FloatProgressModel",
            "bar_style": "success",
            "max": 87306240,
            "_view_module": "@jupyter-widgets/controls",
            "_model_module_version": "1.5.0",
            "value": 87306240,
            "_view_count": null,
            "_view_module_version": "1.5.0",
            "orientation": "horizontal",
            "min": 0,
            "description_tooltip": null,
            "_model_module": "@jupyter-widgets/controls",
            "layout": "IPY_MODEL_43be3b6a00524eae91dcf05876a81d62"
          }
        },
        "d006bf08f82d43518508afe0ae0a9ff0": {
          "model_module": "@jupyter-widgets/controls",
          "model_name": "HTMLModel",
          "state": {
            "_view_name": "HTMLView",
            "style": "IPY_MODEL_63e4b2c028be43249f997b97ba119613",
            "_dom_classes": [],
            "description": "",
            "_model_name": "HTMLModel",
            "placeholder": "​",
            "_view_module": "@jupyter-widgets/controls",
            "_model_module_version": "1.5.0",
            "value": " 83.3M/83.3M [13:30&lt;00:00, 108kB/s]",
            "_view_count": null,
            "_view_module_version": "1.5.0",
            "description_tooltip": null,
            "_model_module": "@jupyter-widgets/controls",
            "layout": "IPY_MODEL_0183871173f94b6b8b67f695dc4e4c8c"
          }
        },
        "cb8cf72f8f0c45beb402ddca180fc0ca": {
          "model_module": "@jupyter-widgets/controls",
          "model_name": "ProgressStyleModel",
          "state": {
            "_view_name": "StyleView",
            "_model_name": "ProgressStyleModel",
            "description_width": "initial",
            "_view_module": "@jupyter-widgets/base",
            "_model_module_version": "1.5.0",
            "_view_count": null,
            "_view_module_version": "1.2.0",
            "bar_color": null,
            "_model_module": "@jupyter-widgets/controls"
          }
        },
        "43be3b6a00524eae91dcf05876a81d62": {
          "model_module": "@jupyter-widgets/base",
          "model_name": "LayoutModel",
          "state": {
            "_view_name": "LayoutView",
            "grid_template_rows": null,
            "right": null,
            "justify_content": null,
            "_view_module": "@jupyter-widgets/base",
            "overflow": null,
            "_model_module_version": "1.2.0",
            "_view_count": null,
            "flex_flow": null,
            "width": null,
            "min_width": null,
            "border": null,
            "align_items": null,
            "bottom": null,
            "_model_module": "@jupyter-widgets/base",
            "top": null,
            "grid_column": null,
            "overflow_y": null,
            "overflow_x": null,
            "grid_auto_flow": null,
            "grid_area": null,
            "grid_template_columns": null,
            "flex": null,
            "_model_name": "LayoutModel",
            "justify_items": null,
            "grid_row": null,
            "max_height": null,
            "align_content": null,
            "visibility": null,
            "align_self": null,
            "height": null,
            "min_height": null,
            "padding": null,
            "grid_auto_rows": null,
            "grid_gap": null,
            "max_width": null,
            "order": null,
            "_view_module_version": "1.2.0",
            "grid_template_areas": null,
            "object_position": null,
            "object_fit": null,
            "grid_auto_columns": null,
            "margin": null,
            "display": null,
            "left": null
          }
        },
        "63e4b2c028be43249f997b97ba119613": {
          "model_module": "@jupyter-widgets/controls",
          "model_name": "DescriptionStyleModel",
          "state": {
            "_view_name": "StyleView",
            "_model_name": "DescriptionStyleModel",
            "description_width": "",
            "_view_module": "@jupyter-widgets/base",
            "_model_module_version": "1.5.0",
            "_view_count": null,
            "_view_module_version": "1.2.0",
            "_model_module": "@jupyter-widgets/controls"
          }
        },
        "0183871173f94b6b8b67f695dc4e4c8c": {
          "model_module": "@jupyter-widgets/base",
          "model_name": "LayoutModel",
          "state": {
            "_view_name": "LayoutView",
            "grid_template_rows": null,
            "right": null,
            "justify_content": null,
            "_view_module": "@jupyter-widgets/base",
            "overflow": null,
            "_model_module_version": "1.2.0",
            "_view_count": null,
            "flex_flow": null,
            "width": null,
            "min_width": null,
            "border": null,
            "align_items": null,
            "bottom": null,
            "_model_module": "@jupyter-widgets/base",
            "top": null,
            "grid_column": null,
            "overflow_y": null,
            "overflow_x": null,
            "grid_auto_flow": null,
            "grid_area": null,
            "grid_template_columns": null,
            "flex": null,
            "_model_name": "LayoutModel",
            "justify_items": null,
            "grid_row": null,
            "max_height": null,
            "align_content": null,
            "visibility": null,
            "align_self": null,
            "height": null,
            "min_height": null,
            "padding": null,
            "grid_auto_rows": null,
            "grid_gap": null,
            "max_width": null,
            "order": null,
            "_view_module_version": "1.2.0",
            "grid_template_areas": null,
            "object_position": null,
            "object_fit": null,
            "grid_auto_columns": null,
            "margin": null,
            "display": null,
            "left": null
          }
        }
      }
    }
  },
  "cells": [
    {
      "cell_type": "code",
      "metadata": {
        "colab": {
          "base_uri": "https://localhost:8080/"
        },
        "id": "oyYpkw4tByYq",
        "outputId": "507bb337-8250-442c-89a6-ab816f228c14"
      },
      "source": [
        "!pip install pretrainedmodels\n",
        "!pip install albumentations==0.4.6"
      ],
      "execution_count": 1,
      "outputs": [
        {
          "output_type": "stream",
          "text": [
            "Collecting pretrainedmodels\n",
            "\u001b[?25l  Downloading https://files.pythonhosted.org/packages/84/0e/be6a0e58447ac16c938799d49bfb5fb7a80ac35e137547fc6cee2c08c4cf/pretrainedmodels-0.7.4.tar.gz (58kB)\n",
            "\r\u001b[K     |█████▋                          | 10kB 21.6MB/s eta 0:00:01\r\u001b[K     |███████████▏                    | 20kB 25.2MB/s eta 0:00:01\r\u001b[K     |████████████████▊               | 30kB 29.8MB/s eta 0:00:01\r\u001b[K     |██████████████████████▎         | 40kB 33.4MB/s eta 0:00:01\r\u001b[K     |███████████████████████████▉    | 51kB 35.8MB/s eta 0:00:01\r\u001b[K     |████████████████████████████████| 61kB 8.8MB/s \n",
            "\u001b[?25hRequirement already satisfied: torch in /usr/local/lib/python3.7/dist-packages (from pretrainedmodels) (1.8.1+cu101)\n",
            "Requirement already satisfied: torchvision in /usr/local/lib/python3.7/dist-packages (from pretrainedmodels) (0.9.1+cu101)\n",
            "Collecting munch\n",
            "  Downloading https://files.pythonhosted.org/packages/cc/ab/85d8da5c9a45e072301beb37ad7f833cd344e04c817d97e0cc75681d248f/munch-2.5.0-py2.py3-none-any.whl\n",
            "Requirement already satisfied: tqdm in /usr/local/lib/python3.7/dist-packages (from pretrainedmodels) (4.41.1)\n",
            "Requirement already satisfied: typing-extensions in /usr/local/lib/python3.7/dist-packages (from torch->pretrainedmodels) (3.7.4.3)\n",
            "Requirement already satisfied: numpy in /usr/local/lib/python3.7/dist-packages (from torch->pretrainedmodels) (1.19.5)\n",
            "Requirement already satisfied: pillow>=4.1.1 in /usr/local/lib/python3.7/dist-packages (from torchvision->pretrainedmodels) (7.1.2)\n",
            "Requirement already satisfied: six in /usr/local/lib/python3.7/dist-packages (from munch->pretrainedmodels) (1.15.0)\n",
            "Building wheels for collected packages: pretrainedmodels\n",
            "  Building wheel for pretrainedmodels (setup.py) ... \u001b[?25l\u001b[?25hdone\n",
            "  Created wheel for pretrainedmodels: filename=pretrainedmodels-0.7.4-cp37-none-any.whl size=60963 sha256=6bc9c134960477b004056cae40efc343919e401b12dff52360760ecd2747af92\n",
            "  Stored in directory: /root/.cache/pip/wheels/69/df/63/62583c096289713f22db605aa2334de5b591d59861a02c2ecd\n",
            "Successfully built pretrainedmodels\n",
            "Installing collected packages: munch, pretrainedmodels\n",
            "Successfully installed munch-2.5.0 pretrainedmodels-0.7.4\n",
            "Collecting albumentations==0.4.6\n",
            "\u001b[?25l  Downloading https://files.pythonhosted.org/packages/92/33/1c459c2c9a4028ec75527eff88bc4e2d256555189f42af4baf4d7bd89233/albumentations-0.4.6.tar.gz (117kB)\n",
            "\u001b[K     |████████████████████████████████| 122kB 26.7MB/s \n",
            "\u001b[?25hRequirement already satisfied: numpy>=1.11.1 in /usr/local/lib/python3.7/dist-packages (from albumentations==0.4.6) (1.19.5)\n",
            "Requirement already satisfied: scipy in /usr/local/lib/python3.7/dist-packages (from albumentations==0.4.6) (1.4.1)\n",
            "Collecting imgaug>=0.4.0\n",
            "\u001b[?25l  Downloading https://files.pythonhosted.org/packages/66/b1/af3142c4a85cba6da9f4ebb5ff4e21e2616309552caca5e8acefe9840622/imgaug-0.4.0-py2.py3-none-any.whl (948kB)\n",
            "\u001b[K     |████████████████████████████████| 952kB 38.6MB/s \n",
            "\u001b[?25hRequirement already satisfied: PyYAML in /usr/local/lib/python3.7/dist-packages (from albumentations==0.4.6) (3.13)\n",
            "Requirement already satisfied: opencv-python>=4.1.1 in /usr/local/lib/python3.7/dist-packages (from albumentations==0.4.6) (4.1.2.30)\n",
            "Requirement already satisfied: matplotlib in /usr/local/lib/python3.7/dist-packages (from imgaug>=0.4.0->albumentations==0.4.6) (3.2.2)\n",
            "Requirement already satisfied: Shapely in /usr/local/lib/python3.7/dist-packages (from imgaug>=0.4.0->albumentations==0.4.6) (1.7.1)\n",
            "Requirement already satisfied: six in /usr/local/lib/python3.7/dist-packages (from imgaug>=0.4.0->albumentations==0.4.6) (1.15.0)\n",
            "Requirement already satisfied: Pillow in /usr/local/lib/python3.7/dist-packages (from imgaug>=0.4.0->albumentations==0.4.6) (7.1.2)\n",
            "Requirement already satisfied: scikit-image>=0.14.2 in /usr/local/lib/python3.7/dist-packages (from imgaug>=0.4.0->albumentations==0.4.6) (0.16.2)\n",
            "Requirement already satisfied: imageio in /usr/local/lib/python3.7/dist-packages (from imgaug>=0.4.0->albumentations==0.4.6) (2.4.1)\n",
            "Requirement already satisfied: cycler>=0.10 in /usr/local/lib/python3.7/dist-packages (from matplotlib->imgaug>=0.4.0->albumentations==0.4.6) (0.10.0)\n",
            "Requirement already satisfied: pyparsing!=2.0.4,!=2.1.2,!=2.1.6,>=2.0.1 in /usr/local/lib/python3.7/dist-packages (from matplotlib->imgaug>=0.4.0->albumentations==0.4.6) (2.4.7)\n",
            "Requirement already satisfied: python-dateutil>=2.1 in /usr/local/lib/python3.7/dist-packages (from matplotlib->imgaug>=0.4.0->albumentations==0.4.6) (2.8.1)\n",
            "Requirement already satisfied: kiwisolver>=1.0.1 in /usr/local/lib/python3.7/dist-packages (from matplotlib->imgaug>=0.4.0->albumentations==0.4.6) (1.3.1)\n",
            "Requirement already satisfied: PyWavelets>=0.4.0 in /usr/local/lib/python3.7/dist-packages (from scikit-image>=0.14.2->imgaug>=0.4.0->albumentations==0.4.6) (1.1.1)\n",
            "Requirement already satisfied: networkx>=2.0 in /usr/local/lib/python3.7/dist-packages (from scikit-image>=0.14.2->imgaug>=0.4.0->albumentations==0.4.6) (2.5.1)\n",
            "Requirement already satisfied: decorator<5,>=4.3 in /usr/local/lib/python3.7/dist-packages (from networkx>=2.0->scikit-image>=0.14.2->imgaug>=0.4.0->albumentations==0.4.6) (4.4.2)\n",
            "Building wheels for collected packages: albumentations\n",
            "  Building wheel for albumentations (setup.py) ... \u001b[?25l\u001b[?25hdone\n",
            "  Created wheel for albumentations: filename=albumentations-0.4.6-cp37-none-any.whl size=65163 sha256=f401691b19e5bc3215904e30d2985fd1f32dc675bf1b9af4b9999ea492ec7b4f\n",
            "  Stored in directory: /root/.cache/pip/wheels/c7/f4/89/56d1bee5c421c36c1a951eeb4adcc32fbb82f5344c086efa14\n",
            "Successfully built albumentations\n",
            "Installing collected packages: imgaug, albumentations\n",
            "  Found existing installation: imgaug 0.2.9\n",
            "    Uninstalling imgaug-0.2.9:\n",
            "      Successfully uninstalled imgaug-0.2.9\n",
            "  Found existing installation: albumentations 0.1.12\n",
            "    Uninstalling albumentations-0.1.12:\n",
            "      Successfully uninstalled albumentations-0.1.12\n",
            "Successfully installed albumentations-0.4.6 imgaug-0.4.0\n"
          ],
          "name": "stdout"
        }
      ]
    },
    {
      "cell_type": "code",
      "metadata": {
        "id": "ujDhtqW_eKDp"
      },
      "source": [
        "import os\n",
        "import numpy as np\n",
        "import pandas as pd\n",
        "\n",
        "import albumentations as A\n",
        "import cv2\n",
        "\n",
        "import torch\n",
        "import torch.nn as nn\n",
        "import torch.nn.functional as F\n",
        "import torchvision\n",
        "import torch.optim as optim\n",
        "\n",
        "import pretrainedmodels\n",
        "\n",
        "from tqdm.notebook import tqdm\n",
        "from torch.utils.data import Dataset, DataLoader\n",
        "from albumentations.pytorch import ToTensorV2\n",
        "from albumentations import Rotate \n",
        "\n",
        "from sklearn.metrics import roc_auc_score\n",
        "from sklearn.model_selection import StratifiedKFold\n",
        "\n",
        "import warnings  \n",
        "warnings.filterwarnings('ignore')"
      ],
      "execution_count": 2,
      "outputs": []
    },
    {
      "cell_type": "code",
      "metadata": {
        "colab": {
          "base_uri": "https://localhost:8080/"
        },
        "id": "Ylo7ngRAybMX",
        "outputId": "eb907a18-32a6-4cdc-e104-f0af99295283"
      },
      "source": [
        "from google.colab import drive\n",
        "drive.mount('/content/drive')"
      ],
      "execution_count": 3,
      "outputs": [
        {
          "output_type": "stream",
          "text": [
            "Mounted at /content/drive\n"
          ],
          "name": "stdout"
        }
      ]
    },
    {
      "cell_type": "code",
      "metadata": {
        "id": "FILNo5PRCSs4"
      },
      "source": [
        "DIR_INPUT = '/content/drive/MyDrive/DSPD Project/Data/'\n",
        "\n",
        "SEED = 42\n",
        "N_FOLDS = 2\n",
        "N_EPOCHS = 2\n",
        "BATCH_SIZE = 64\n",
        "SIZE = 512\n",
        "\n"
      ],
      "execution_count": 4,
      "outputs": []
    },
    {
      "cell_type": "code",
      "metadata": {
        "id": "pXOiRDVCfU48"
      },
      "source": [
        "device = torch.device(\"cuda:0\" if torch.cuda.is_available() else \"cpu\")"
      ],
      "execution_count": 5,
      "outputs": []
    },
    {
      "cell_type": "code",
      "metadata": {
        "id": "9p5BXoPEfWZd"
      },
      "source": [
        "class PlantDataset(Dataset):\n",
        "    \n",
        "    def __init__(self, df, transforms=None):\n",
        "        self.df = df\n",
        "        self.transforms=transforms\n",
        "        \n",
        "    def __len__(self):\n",
        "        return self.df.shape[0]\n",
        "    \n",
        "    def __getitem__(self, idx):\n",
        "        image_src = DIR_INPUT + '/images/' + self.df.loc[idx, 'image_id'] + '.jpg'\n",
        "        # print(image_src)\n",
        "        image = cv2.imread(image_src, cv2.IMREAD_COLOR)\n",
        "        image = cv2.cvtColor(image, cv2.COLOR_BGR2RGB)\n",
        "        labels = self.df.loc[idx, ['healthy', 'multiple_diseases', 'rust', 'scab']].values\n",
        "        labels = torch.from_numpy(labels.astype(np.int8))\n",
        "        labels = labels.unsqueeze(-1)\n",
        "        \n",
        "        if self.transforms:\n",
        "            transformed = self.transforms(image=image)\n",
        "            image = transformed['image']\n",
        "\n",
        "        return image, labels"
      ],
      "execution_count": 6,
      "outputs": []
    },
    {
      "cell_type": "code",
      "metadata": {
        "id": "JAQq7LI_fapr"
      },
      "source": [
        "transforms_train = A.Compose([\n",
        "        A.RandomResizedCrop(height=SIZE, width=SIZE, p=1.0),\n",
        "        A.Rotate(20),\n",
        "        A.Flip(),\n",
        "        A.Transpose(),\n",
        "    A.Resize(height=SIZE, width=SIZE, p=1.0),\n",
        "    A.Normalize(p=1.0),\n",
        "    ToTensorV2(p=1.0),\n",
        "    ], p=1.0)\n",
        "\n",
        "transforms_valid = A.Compose([\n",
        "    A.Resize(height=SIZE, width=SIZE, p=1.0),\n",
        "    A.Normalize(p=1.0),\n",
        "    ToTensorV2(p=1.0),\n",
        "])"
      ],
      "execution_count": 7,
      "outputs": []
    },
    {
      "cell_type": "code",
      "metadata": {
        "id": "1f7h1Pisfd38"
      },
      "source": [
        "train_df = pd.read_csv(DIR_INPUT + '/train.csv')\n",
        "train_labels = train_df.iloc[:, 1:].values\n",
        "\n",
        "# Need for the StratifiedKFold split\n",
        "train_y = train_labels[:, 2] + train_labels[:, 3] * 2 + train_labels[:, 1] * 3"
      ],
      "execution_count": 8,
      "outputs": []
    },
    {
      "cell_type": "code",
      "metadata": {
        "colab": {
          "base_uri": "https://localhost:8080/",
          "height": 204
        },
        "id": "iTf8Wo-ufjkX",
        "outputId": "4f42589c-5d4c-46cf-ae85-68712f3abf82"
      },
      "source": [
        "train_df.head()"
      ],
      "execution_count": 9,
      "outputs": [
        {
          "output_type": "execute_result",
          "data": {
            "text/html": [
              "<div>\n",
              "<style scoped>\n",
              "    .dataframe tbody tr th:only-of-type {\n",
              "        vertical-align: middle;\n",
              "    }\n",
              "\n",
              "    .dataframe tbody tr th {\n",
              "        vertical-align: top;\n",
              "    }\n",
              "\n",
              "    .dataframe thead th {\n",
              "        text-align: right;\n",
              "    }\n",
              "</style>\n",
              "<table border=\"1\" class=\"dataframe\">\n",
              "  <thead>\n",
              "    <tr style=\"text-align: right;\">\n",
              "      <th></th>\n",
              "      <th>image_id</th>\n",
              "      <th>healthy</th>\n",
              "      <th>multiple_diseases</th>\n",
              "      <th>rust</th>\n",
              "      <th>scab</th>\n",
              "    </tr>\n",
              "  </thead>\n",
              "  <tbody>\n",
              "    <tr>\n",
              "      <th>0</th>\n",
              "      <td>Train_0</td>\n",
              "      <td>0</td>\n",
              "      <td>0</td>\n",
              "      <td>0</td>\n",
              "      <td>1</td>\n",
              "    </tr>\n",
              "    <tr>\n",
              "      <th>1</th>\n",
              "      <td>Train_1</td>\n",
              "      <td>0</td>\n",
              "      <td>1</td>\n",
              "      <td>0</td>\n",
              "      <td>0</td>\n",
              "    </tr>\n",
              "    <tr>\n",
              "      <th>2</th>\n",
              "      <td>Train_2</td>\n",
              "      <td>1</td>\n",
              "      <td>0</td>\n",
              "      <td>0</td>\n",
              "      <td>0</td>\n",
              "    </tr>\n",
              "    <tr>\n",
              "      <th>3</th>\n",
              "      <td>Train_3</td>\n",
              "      <td>0</td>\n",
              "      <td>0</td>\n",
              "      <td>1</td>\n",
              "      <td>0</td>\n",
              "    </tr>\n",
              "    <tr>\n",
              "      <th>4</th>\n",
              "      <td>Train_4</td>\n",
              "      <td>1</td>\n",
              "      <td>0</td>\n",
              "      <td>0</td>\n",
              "      <td>0</td>\n",
              "    </tr>\n",
              "  </tbody>\n",
              "</table>\n",
              "</div>"
            ],
            "text/plain": [
              "  image_id  healthy  multiple_diseases  rust  scab\n",
              "0  Train_0        0                  0     0     1\n",
              "1  Train_1        0                  1     0     0\n",
              "2  Train_2        1                  0     0     0\n",
              "3  Train_3        0                  0     1     0\n",
              "4  Train_4        1                  0     0     0"
            ]
          },
          "metadata": {
            "tags": []
          },
          "execution_count": 9
        }
      ]
    },
    {
      "cell_type": "code",
      "metadata": {
        "id": "S1ZXPfx7flfx"
      },
      "source": [
        "folds = StratifiedKFold(n_splits=N_FOLDS, shuffle=True, random_state=SEED)\n",
        "oof_preds = np.zeros((train_df.shape[0], 4))"
      ],
      "execution_count": 10,
      "outputs": []
    },
    {
      "cell_type": "code",
      "metadata": {
        "id": "_3YLWxeJfnxZ",
        "colab": {
          "base_uri": "https://localhost:8080/",
          "height": 103,
          "referenced_widgets": [
            "f3e2c7d8405c4e00b17f967bd336ef13",
            "9be934c748d84208a9c442b79ca59d51",
            "ec599959c0a44ba59b879c02e429756e",
            "d006bf08f82d43518508afe0ae0a9ff0",
            "cb8cf72f8f0c45beb402ddca180fc0ca",
            "43be3b6a00524eae91dcf05876a81d62",
            "63e4b2c028be43249f997b97ba119613",
            "0183871173f94b6b8b67f695dc4e4c8c"
          ]
        },
        "outputId": "74dd6d76-d2ca-4254-ba62-73bd47c7a9d6"
      },
      "source": [
        "model_name = 'resnet34'\n",
        "model = pretrainedmodels.__dict__[model_name](pretrained='imagenet')\n",
        "in_features = model.last_linear.in_features\n",
        "model.last_linear = nn.Linear(in_features, 4)"
      ],
      "execution_count": 11,
      "outputs": [
        {
          "output_type": "stream",
          "text": [
            "Downloading: \"https://download.pytorch.org/models/resnet34-333f7ec4.pth\" to /root/.cache/torch/hub/checkpoints/resnet34-333f7ec4.pth\n"
          ],
          "name": "stderr"
        },
        {
          "output_type": "display_data",
          "data": {
            "application/vnd.jupyter.widget-view+json": {
              "model_id": "f3e2c7d8405c4e00b17f967bd336ef13",
              "version_minor": 0,
              "version_major": 2
            },
            "text/plain": [
              "HBox(children=(FloatProgress(value=0.0, max=87306240.0), HTML(value='')))"
            ]
          },
          "metadata": {
            "tags": []
          }
        },
        {
          "output_type": "stream",
          "text": [
            "\n"
          ],
          "name": "stdout"
        }
      ]
    },
    {
      "cell_type": "code",
      "metadata": {
        "id": "rFxEiaLBfpjZ"
      },
      "source": [
        "class DenseCrossEntropy(nn.Module):\n",
        "\n",
        "    def __init__(self):\n",
        "        super(DenseCrossEntropy, self).__init__()\n",
        "        \n",
        "        \n",
        "    def forward(self, logits, labels):\n",
        "        logits = logits.float()\n",
        "        labels = labels.float()\n",
        "        \n",
        "        logprobs = F.log_softmax(logits, dim=-1)\n",
        "        \n",
        "        loss = -labels * logprobs\n",
        "        loss = loss.sum(-1)\n",
        "\n",
        "        return loss.mean()"
      ],
      "execution_count": 12,
      "outputs": []
    },
    {
      "cell_type": "code",
      "metadata": {
        "id": "XM0eBkOVfr8k"
      },
      "source": [
        "def train_one_fold(i_fold, model, criterion, optimizer, lr_scheduler, dataloader_train, dataloader_valid):\n",
        "    \n",
        "    train_fold_results = []\n",
        "\n",
        "    for epoch in range(N_EPOCHS):\n",
        "\n",
        "        print('  Epoch {}/{}'.format(epoch + 1, N_EPOCHS))\n",
        "        print('  ' + ('-' * 20))\n",
        "        os.system(f'echo \\\"  Epoch {epoch}\\\"')\n",
        "\n",
        "        model.train()\n",
        "        tr_loss = 0\n",
        "\n",
        "        for step, batch in enumerate(dataloader_train):\n",
        "\n",
        "            images = batch[0].to(device)\n",
        "            labels = batch[1].to(device)\n",
        "\n",
        "            images = images.to(device, dtype=torch.float)\n",
        "            labels = labels.to(device, dtype=torch.float)\n",
        "            \n",
        "            outputs = model(images)\n",
        "            loss = criterion(outputs, labels.squeeze(-1))                \n",
        "            loss.backward()\n",
        "\n",
        "            tr_loss += loss.item()\n",
        "\n",
        "            optimizer.step()\n",
        "            optimizer.zero_grad()\n",
        "\n",
        "        # Validate\n",
        "        model.eval()\n",
        "        val_loss = 0\n",
        "        val_preds = None\n",
        "        val_labels = None\n",
        "\n",
        "        for step, batch in enumerate(dataloader_valid):\n",
        "\n",
        "            images = batch[0]\n",
        "            labels = batch[1]\n",
        "\n",
        "            if val_labels is None:\n",
        "                val_labels = labels.clone().squeeze(-1)\n",
        "            else:\n",
        "                val_labels = torch.cat((val_labels, labels.squeeze(-1)), dim=0)\n",
        "\n",
        "            images = images.to(device, dtype=torch.float)\n",
        "            labels = labels.to(device, dtype=torch.float)\n",
        "\n",
        "            with torch.no_grad():\n",
        "                outputs = model(images)\n",
        "\n",
        "                loss = criterion(outputs, labels.squeeze(-1))\n",
        "                val_loss += loss.item()\n",
        "\n",
        "                preds = torch.softmax(outputs, dim=1).data.cpu()\n",
        "\n",
        "                if val_preds is None:\n",
        "                    val_preds = preds\n",
        "                else:\n",
        "                    val_preds = torch.cat((val_preds, preds), dim=0)\n",
        "       \n",
        "        # if train mode\n",
        "        lr_scheduler.step(tr_loss)\n",
        "\n",
        "        train_fold_results.append({\n",
        "            'fold': i_fold,\n",
        "            'epoch': epoch,\n",
        "            'train_loss': tr_loss / len(dataloader_train),\n",
        "            'valid_loss': val_loss / len(dataloader_valid),\n",
        "            'valid_score': roc_auc_score(val_labels, val_preds, average='macro'),\n",
        "        })\n",
        "\n",
        "    return val_preds, train_fold_results"
      ],
      "execution_count": 13,
      "outputs": []
    },
    {
      "cell_type": "code",
      "metadata": {
        "id": "dlY7I7BYfwix"
      },
      "source": [
        "submission_df = pd.read_csv(DIR_INPUT + '/sample_submission.csv')\n",
        "submission_df.iloc[:, 1:] = 0"
      ],
      "execution_count": 14,
      "outputs": []
    },
    {
      "cell_type": "code",
      "metadata": {
        "id": "G2t5ecrifzib"
      },
      "source": [
        "dataset_test = PlantDataset(df=submission_df, transforms=transforms_valid)\n",
        "dataloader_test = DataLoader(dataset_test, batch_size=BATCH_SIZE, num_workers=4, shuffle=False)"
      ],
      "execution_count": 15,
      "outputs": []
    },
    {
      "cell_type": "code",
      "metadata": {
        "colab": {
          "base_uri": "https://localhost:8080/"
        },
        "id": "_FMj3Pw8f1Z4",
        "outputId": "0c8430a4-76cf-42c7-9107-c5863f024b43"
      },
      "source": [
        "submissions = None\n",
        "train_results = []\n",
        "\n",
        "for i_fold, (train_idx, valid_idx) in enumerate(folds.split(train_df, train_y)):\n",
        "    print(\"Fold {}/{}\".format(i_fold + 1, N_FOLDS))\n",
        "\n",
        "    valid = train_df.iloc[valid_idx]\n",
        "    valid.reset_index(drop=True, inplace=True)\n",
        "\n",
        "    train = train_df.iloc[train_idx]\n",
        "    train.reset_index(drop=True, inplace=True)    \n",
        "\n",
        "    dataset_train = PlantDataset(df=train, transforms=transforms_train)\n",
        "    dataset_valid = PlantDataset(df=valid, transforms=transforms_valid)\n",
        "\n",
        "    dataloader_train = DataLoader(dataset_train, batch_size=BATCH_SIZE, num_workers=4, shuffle=True)\n",
        "    dataloader_valid = DataLoader(dataset_valid, batch_size=BATCH_SIZE, num_workers=4, shuffle=False)\n",
        "\n",
        "    #device = torch.device(\"cuda:0\")\n",
        "    \n",
        "    model = model.to(device)\n",
        "\n",
        "    criterion = DenseCrossEntropy()\n",
        "    optimizer = optim.Adam(model.parameters(), lr=0.001)\n",
        "    lr_scheduler = optim.lr_scheduler.MultiStepLR(optimizer=optimizer, milestones=[int(N_EPOCHS * 0.5), int(N_EPOCHS * 0.75)], gamma=0.1, last_epoch=-1)\n",
        "    \n",
        "    val_preds, train_fold_results = train_one_fold(i_fold, model, criterion, optimizer, lr_scheduler, dataloader_train, dataloader_valid)\n",
        "    oof_preds[valid_idx, :] = val_preds.numpy()\n",
        "    \n",
        "    train_results = train_results + train_fold_results\n",
        "\n",
        "    model.eval()\n",
        "    test_preds = None\n",
        "\n",
        "    for step, batch in enumerate(dataloader_test):\n",
        "\n",
        "        images = batch[0]\n",
        "        images = images.to(device, dtype=torch.float)\n",
        "\n",
        "        with torch.no_grad():\n",
        "            outputs = model(images)\n",
        "\n",
        "            if test_preds is None:\n",
        "                test_preds = outputs.data.cpu()\n",
        "            else:\n",
        "                test_preds = torch.cat((test_preds, outputs.data.cpu()), dim=0)\n",
        "    \n",
        "    \n",
        "    # Save predictions per fold\n",
        "    submission_df[['healthy', 'multiple_diseases', 'rust', 'scab']] = torch.softmax(test_preds, dim=1)\n",
        "    submission_df.to_csv('submission_fold_{}.csv'.format(i_fold), index=False)\n",
        "\n",
        "    # logits avg\n",
        "    if submissions is None:\n",
        "        submissions = test_preds / N_FOLDS\n",
        "    else:\n",
        "        submissions += test_preds / N_FOLDS\n",
        "\n",
        "print(\"Folds CV score: {:.4f}\".format(roc_auc_score(train_labels, oof_preds, average='macro')))\n",
        "\n",
        "torch.save(model.state_dict(), 'best_score_rnn34.pth')"
      ],
      "execution_count": 16,
      "outputs": [
        {
          "output_type": "stream",
          "text": [
            "Fold 1/2\n",
            "  Epoch 1/2\n",
            "  --------------------\n",
            "  Epoch 2/2\n",
            "  --------------------\n",
            "Fold 2/2\n",
            "  Epoch 1/2\n",
            "  --------------------\n",
            "  Epoch 2/2\n",
            "  --------------------\n",
            "Folds CV score: 0.8822\n"
          ],
          "name": "stdout"
        }
      ]
    },
    {
      "cell_type": "code",
      "metadata": {
        "id": "C6yh0CfRf4hp"
      },
      "source": [
        "import matplotlib.pyplot as plt"
      ],
      "execution_count": 17,
      "outputs": []
    },
    {
      "cell_type": "code",
      "metadata": {
        "id": "NM4BZUNmiInh"
      },
      "source": [
        "def show_training_loss(train_result):\n",
        "    plt.figure(figsize=(15,10))\n",
        "    plt.subplot(311)\n",
        "    train_loss = train_result['train_loss']\n",
        "    plt.plot(train_loss.index, train_loss, label = 'train_loss')\n",
        "    plt.legend()\n",
        "\n",
        "    val_loss = train_result['valid_loss']\n",
        "    plt.plot(val_loss.index, val_loss, label = 'val_loss')\n",
        "    plt.legend()"
      ],
      "execution_count": 18,
      "outputs": []
    },
    {
      "cell_type": "code",
      "metadata": {
        "id": "U1E7uMNTiMAM"
      },
      "source": [
        "def show_valid_score(train_result):\n",
        "    plt.figure(figsize=(15,10))\n",
        "    plt.subplot(311)\n",
        "    valid_score = train_result['valid_score']\n",
        "    plt.plot(valid_score.index, valid_score, label = 'valid_score')\n",
        "    plt.legend()"
      ],
      "execution_count": 19,
      "outputs": []
    },
    {
      "cell_type": "code",
      "metadata": {
        "colab": {
          "base_uri": "https://localhost:8080/",
          "height": 173
        },
        "id": "8-AMJeQdiO5p",
        "outputId": "fe4ab970-4f6a-4a6b-d1f5-64b1674d6105"
      },
      "source": [
        "train_results = pd.DataFrame(train_results)\n",
        "train_results.head(10)"
      ],
      "execution_count": 20,
      "outputs": [
        {
          "output_type": "execute_result",
          "data": {
            "text/html": [
              "<div>\n",
              "<style scoped>\n",
              "    .dataframe tbody tr th:only-of-type {\n",
              "        vertical-align: middle;\n",
              "    }\n",
              "\n",
              "    .dataframe tbody tr th {\n",
              "        vertical-align: top;\n",
              "    }\n",
              "\n",
              "    .dataframe thead th {\n",
              "        text-align: right;\n",
              "    }\n",
              "</style>\n",
              "<table border=\"1\" class=\"dataframe\">\n",
              "  <thead>\n",
              "    <tr style=\"text-align: right;\">\n",
              "      <th></th>\n",
              "      <th>fold</th>\n",
              "      <th>epoch</th>\n",
              "      <th>train_loss</th>\n",
              "      <th>valid_loss</th>\n",
              "      <th>valid_score</th>\n",
              "    </tr>\n",
              "  </thead>\n",
              "  <tbody>\n",
              "    <tr>\n",
              "      <th>0</th>\n",
              "      <td>0</td>\n",
              "      <td>0</td>\n",
              "      <td>0.844653</td>\n",
              "      <td>23.901240</td>\n",
              "      <td>0.543150</td>\n",
              "    </tr>\n",
              "    <tr>\n",
              "      <th>1</th>\n",
              "      <td>0</td>\n",
              "      <td>1</td>\n",
              "      <td>0.642522</td>\n",
              "      <td>0.800364</td>\n",
              "      <td>0.871602</td>\n",
              "    </tr>\n",
              "    <tr>\n",
              "      <th>2</th>\n",
              "      <td>1</td>\n",
              "      <td>0</td>\n",
              "      <td>0.723451</td>\n",
              "      <td>2.423377</td>\n",
              "      <td>0.791263</td>\n",
              "    </tr>\n",
              "    <tr>\n",
              "      <th>3</th>\n",
              "      <td>1</td>\n",
              "      <td>1</td>\n",
              "      <td>0.586752</td>\n",
              "      <td>0.538544</td>\n",
              "      <td>0.904145</td>\n",
              "    </tr>\n",
              "  </tbody>\n",
              "</table>\n",
              "</div>"
            ],
            "text/plain": [
              "   fold  epoch  train_loss  valid_loss  valid_score\n",
              "0     0      0    0.844653   23.901240     0.543150\n",
              "1     0      1    0.642522    0.800364     0.871602\n",
              "2     1      0    0.723451    2.423377     0.791263\n",
              "3     1      1    0.586752    0.538544     0.904145"
            ]
          },
          "metadata": {
            "tags": []
          },
          "execution_count": 20
        }
      ]
    },
    {
      "cell_type": "code",
      "metadata": {
        "colab": {
          "base_uri": "https://localhost:8080/",
          "height": 185
        },
        "id": "vpFGHv7XiQ4i",
        "outputId": "f86da02e-3675-4b00-dbae-f63970022044"
      },
      "source": [
        "show_training_loss(train_results[train_results['fold'] == 0])"
      ],
      "execution_count": 21,
      "outputs": [
        {
          "output_type": "display_data",
          "data": {
            "image/png": "[encoded data removed]",
            "text/plain": [
              "<Figure size 1080x720 with 1 Axes>"
            ]
          },
          "metadata": {
            "tags": [],
            "needs_background": "light"
          }
        }
      ]
    },
    {
      "cell_type": "code",
      "metadata": {
        "colab": {
          "base_uri": "https://localhost:8080/",
          "height": 182
        },
        "id": "KFYHLwi_iS4j",
        "outputId": "3a4a9479-3a93-49a0-e957-55e592cad9bc"
      },
      "source": [
        "show_valid_score(train_results[train_results['fold'] == 0])"
      ],
      "execution_count": 22,
      "outputs": [
        {
          "output_type": "display_data",
          "data": {
            "image/png": "[encoded data removed]",
            "text/plain": [
              "<Figure size 1080x720 with 1 Axes>"
            ]
          },
          "metadata": {
            "tags": [],
            "needs_background": "light"
          }
        }
      ]
    },
    {
      "cell_type": "code",
      "metadata": {
        "colab": {
          "base_uri": "https://localhost:8080/"
        },
        "id": "ZHR5o7yoXifp",
        "outputId": "868b68f7-9887-44d1-b2f7-c2336520bdf2"
      },
      "source": [
        "!pip install captum"
      ],
      "execution_count": 23,
      "outputs": [
        {
          "output_type": "stream",
          "text": [
            "Collecting captum\n",
            "\u001b[?25l  Downloading https://files.pythonhosted.org/packages/13/b0/8fa3ab89e2e37c960cdd09595fa911fbb8d6da216c8bc98e18c858a0128d/captum-0.3.1-py3-none-any.whl (4.4MB)\n",
            "\u001b[K     |████████████████████████████████| 4.4MB 27.5MB/s \n",
            "\u001b[?25hRequirement already satisfied: numpy in /usr/local/lib/python3.7/dist-packages (from captum) (1.19.5)\n",
            "Requirement already satisfied: torch>=1.2 in /usr/local/lib/python3.7/dist-packages (from captum) (1.8.1+cu101)\n",
            "Requirement already satisfied: matplotlib in /usr/local/lib/python3.7/dist-packages (from captum) (3.2.2)\n",
            "Requirement already satisfied: typing-extensions in /usr/local/lib/python3.7/dist-packages (from torch>=1.2->captum) (3.7.4.3)\n",
            "Requirement already satisfied: python-dateutil>=2.1 in /usr/local/lib/python3.7/dist-packages (from matplotlib->captum) (2.8.1)\n",
            "Requirement already satisfied: cycler>=0.10 in /usr/local/lib/python3.7/dist-packages (from matplotlib->captum) (0.10.0)\n",
            "Requirement already satisfied: pyparsing!=2.0.4,!=2.1.2,!=2.1.6,>=2.0.1 in /usr/local/lib/python3.7/dist-packages (from matplotlib->captum) (2.4.7)\n",
            "Requirement already satisfied: kiwisolver>=1.0.1 in /usr/local/lib/python3.7/dist-packages (from matplotlib->captum) (1.3.1)\n",
            "Requirement already satisfied: six>=1.5 in /usr/local/lib/python3.7/dist-packages (from python-dateutil>=2.1->matplotlib->captum) (1.15.0)\n",
            "Installing collected packages: captum\n",
            "Successfully installed captum-0.3.1\n"
          ],
          "name": "stdout"
        }
      ]
    },
    {
      "cell_type": "code",
      "metadata": {
        "id": "_vtvqrOqXqs3"
      },
      "source": [
        "import torch\n",
        "import torch.nn.functional as F\n",
        "\n",
        "from PIL import Image\n",
        "\n",
        "import os\n",
        "import json\n",
        "import numpy as np\n",
        "from matplotlib.colors import LinearSegmentedColormap\n",
        "\n",
        "import torchvision\n",
        "from torchvision import models\n",
        "from torchvision import transforms\n",
        "from torchvision.transforms import ToTensor\n",
        "\n",
        "from captum.attr import IntegratedGradients\n",
        "from captum.attr import GradientShap\n",
        "from captum.attr import Occlusion\n",
        "from captum.attr import NoiseTunnel\n",
        "from captum.attr import visualization as viz"
      ],
      "execution_count": 24,
      "outputs": []
    },
    {
      "cell_type": "code",
      "metadata": {
        "id": "E2G0a7ceXt2G"
      },
      "source": [
        "image_src = \"/content/drive/MyDrive/DSPD Project/Data/images/Test_0.jpg\"\n",
        "image = cv2.imread(image_src, cv2.IMREAD_COLOR)\n",
        "image = cv2.cvtColor(image, cv2.COLOR_BGR2RGB)"
      ],
      "execution_count": 25,
      "outputs": []
    },
    {
      "cell_type": "code",
      "metadata": {
        "id": "D7A4m_bfYoKV"
      },
      "source": [
        "transform = transforms.Compose([\n",
        " transforms.Resize(256),\n",
        " transforms.CenterCrop(224),\n",
        " transforms.ToTensor()\n",
        "])\n",
        "\n",
        "transform_normalize = transforms.Normalize(\n",
        "     mean=[0.485, 0.456, 0.406],\n",
        "     std=[0.229, 0.224, 0.225]\n",
        " )\n",
        "\n",
        "img = Image.open(image_src)\n",
        "\n",
        "transformed_img = transform(img)\n",
        "\n",
        "input = transform_normalize(transformed_img)\n",
        "input = input.unsqueeze(0)"
      ],
      "execution_count": 36,
      "outputs": []
    },
    {
      "cell_type": "code",
      "metadata": {
        "id": "Oq58JyGnX1UR"
      },
      "source": [
        "input = ToTensor()(image).unsqueeze(0)\n",
        "input = input.cuda()\n",
        "output = model(input)\n",
        "output = F.softmax(output, dim=1)\n",
        "prediction_score, pred_label_idx = torch.topk(output, 1)"
      ],
      "execution_count": 40,
      "outputs": []
    },
    {
      "cell_type": "code",
      "metadata": {
        "id": "6GwUi2raX4EK"
      },
      "source": [
        "integrated_gradients = IntegratedGradients(model)\n",
        "attributions_ig = integrated_gradients.attribute(input, target=pred_label_idx, n_steps=2)"
      ],
      "execution_count": 32,
      "outputs": []
    },
    {
      "cell_type": "code",
      "metadata": {
        "colab": {
          "base_uri": "https://localhost:8080/",
          "height": 289
        },
        "id": "uxfxnJNkYC9c",
        "outputId": "c2c6acba-eb34-47b0-de13-d7866ee09d98"
      },
      "source": [
        "default_cmap = LinearSegmentedColormap.from_list('custom blue', \n",
        "                                                 [(0, '#ffffff'),\n",
        "                                                  (0.25, '#000000'),\n",
        "                                                  (1, '#000000')], N=256)\n",
        "\n",
        "_ = viz.visualize_image_attr(np.transpose(attributions_ig.squeeze().cpu().detach().numpy(), (1,2,0)),\n",
        "                             np.transpose(transformed_img.squeeze().cpu().detach().numpy(), (1,2,0)),\n",
        "                             method='heat_map',\n",
        "                             cmap=default_cmap,\n",
        "                             show_colorbar=True,\n",
        "                             sign='positive',\n",
        "                             outlier_perc=1)"
      ],
      "execution_count": 37,
      "outputs": [
        {
          "output_type": "display_data",
          "data": {
            "image/png": "[encoded data removed]",
            "text/plain": [
              "<Figure size 432x432 with 2 Axes>"
            ]
          },
          "metadata": {
            "tags": [],
            "needs_background": "light"
          }
        }
      ]
    },
    {
      "cell_type": "code",
      "metadata": {
        "id": "KYqjziaHYchZ"
      },
      "source": [
        "occlusion = Occlusion(model)\n",
        "input = ToTensor()(image).unsqueeze(0)\n",
        "input = input.cuda()\n",
        "attributions_occ = occlusion.attribute(input,\n",
        "                                       strides = (3, 8, 8),\n",
        "                                       target=pred_label_idx,\n",
        "                                       sliding_window_shapes=(3,15, 15),\n",
        "                                       baselines=0)"
      ],
      "execution_count": null,
      "outputs": []
    },
    {
      "cell_type": "code",
      "metadata": {
        "id": "iWsarwmDY2XM"
      },
      "source": [
        "_ = viz.visualize_image_attr_multiple(np.transpose(attributions_occ.squeeze().cpu().detach().numpy(), (1,2,0)),\n",
        "                                      np.transpose(transformed_img.squeeze().cpu().detach().numpy(), (1,2,0)),\n",
        "                                      [\"original_image\", \"heat_map\"],\n",
        "                                      [\"all\", \"positive\"],\n",
        "                                      show_colorbar=True,\n",
        "                                      outlier_perc=2,\n",
        "                                     )"
      ],
      "execution_count": null,
      "outputs": []
    },
    {
      "cell_type": "code",
      "metadata": {
        "id": "zwARLXNiavOA"
      },
      "source": [
        "occlusion = Occlusion(model)\n",
        "\n",
        "attributions_occ = occlusion.attribute(input,\n",
        "                                       strides = (3, 50, 50),\n",
        "                                       target=pred_label_idx,\n",
        "                                       sliding_window_shapes=(3,60, 60),\n",
        "                                       baselines=0)\n",
        "\n",
        "_ = viz.visualize_image_attr_multiple(np.transpose(attributions_occ.squeeze().cpu().detach().numpy(), (1,2,0)),\n",
        "                                      np.transpose(transformed_img.squeeze().cpu().detach().numpy(), (1,2,0)),\n",
        "                                      [\"original_image\", \"heat_map\"],\n",
        "                                      [\"all\", \"positive\"],\n",
        "                                      show_colorbar=True,\n",
        "                                      outlier_perc=2,\n",
        "                                     )"
      ],
      "execution_count": null,
      "outputs": []
    },
    {
      "cell_type": "code",
      "metadata": {
        "id": "NQ4GcK4cbA-H"
      },
      "source": [
        ""
      ],
      "execution_count": null,
      "outputs": []
    }
  ]
}